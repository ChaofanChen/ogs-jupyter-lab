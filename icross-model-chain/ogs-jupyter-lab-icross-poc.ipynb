{
 "cells": [
  {
   "cell_type": "code",
   "execution_count": 1,
   "metadata": {},
   "outputs": [],
   "source": [
    "title = \"ogs@jupyter-lab: iCROSS: DR-C - THC process\"\n",
    "variables = ['Temperature','pressure']\n",
    "variable = \"T\"\n",
    "coordinate = \"x\""
   ]
  },
  {
   "cell_type": "markdown",
   "metadata": {},
   "source": [
    "This is Jupyter Notebook part of the [iCROSS](https://www.ufz.de/index.php?en=46097) project. <img src=\"icross-logo-ok.png\" alt=\"drawing\" width=\"100\"/>"
   ]
  },
  {
   "cell_type": "markdown",
   "metadata": {
    "tags": []
   },
   "source": [
    "**ogs@jupyter-lab: iCROSS: Proof-of-Concept (model-chain)**"
   ]
  },
  {
   "cell_type": "markdown",
   "metadata": {},
   "source": [
    "<img src=\"icross-pocs.png\" alt=\"drawing\" width=\"600\"/> \n",
    "This notebook is building a model-chain for radionuclide (RN) transport along the multi-barrier system (see figure above).\n",
    "For each element of the multi-barrier system (MBS) detailed process studies have been conducted and respective models have been set-up.\n",
    "For the model-chain simplified 1-D models have been distilled for the key features affecting RN transport throughout the MBS.\n",
    "\n",
    "Legende: W - waste package, C1 - container, B - bentonite buffer, C2 - cement (shotcrete), EDT - excavation disturbed zone, HR - host rock, FF - far field"
   ]
  },
  {
   "cell_type": "markdown",
   "metadata": {},
   "source": [
    "**1 Gas formation due to corrosion (C1)**"
   ]
  },
  {
   "cell_type": "markdown",
   "metadata": {},
   "source": [
    "**2.1 Gas transport through the EBS (B+C2)**"
   ]
  },
  {
   "cell_type": "markdown",
   "metadata": {},
   "source": [
    "**2.2 Associated RN transport through the EBS (B+C2)**"
   ]
  },
  {
   "cell_type": "markdown",
   "metadata": {},
   "source": [
    "**3.1 Gas transport through the EDZ**"
   ]
  },
  {
   "cell_type": "markdown",
   "metadata": {},
   "source": [
    "**3.2 Associated RN transport through the EDZ**"
   ]
  },
  {
   "cell_type": "markdown",
   "metadata": {},
   "source": [
    "*3.2.1 Tracer transport in thermal gradients through the EDZ*\n",
    "\n",
    "short explanation ...\n",
    "\n",
    "Running ogs6 using ogs6py"
   ]
  },
  {
   "cell_type": "code",
   "execution_count": null,
   "metadata": {},
   "outputs": [],
   "source": [
    "from ogs6py import ogs\n",
    "#run ogs\n",
    "print(\"===============\")\n",
    "print(\">>> run ogs <<<\")\n",
    "model = ogs.OGS(PROJECT_FILE=\"TemperatureField.prj\")\n",
    "model.run_model(path=\"/home/ok/ogs/build/release/bin/\",LOGFILE=\"example.log\")"
   ]
  },
  {
   "cell_type": "code",
   "execution_count": null,
   "metadata": {},
   "outputs": [],
   "source": [
    "import vtuIO\n",
    "import numpy as np\n",
    "import matplotlib.pyplot as plt\n",
    "import matplotlib.tri as tri\n",
    "print(\"=====================\")\n",
    "print(\">>> print results <<<\")\n",
    "pvdfile=vtuIO.PVDIO(\"TemperatureField.pvd\", dim=2)\n",
    "xaxis =  [(i,0,0) for i in np.linspace(start=0.0, stop=8., num=100)]\n",
    "x = np.array(xaxis)[:,0]\n",
    "xaxis1 =  [(i,2.5,0) for i in np.linspace(start=0.0, stop=8., num=100)]\n",
    "x1 = np.array(xaxis1)[:,0]\n",
    "time = [6307200,12614400,18921600,25228800,31536000]\n",
    "fig, ax = plt.subplots(ncols=2, figsize=(12,5))\n",
    "for t in time:\n",
    "    xaxis_t = pvdfile.read_point_set_data(t, 'T', pointsetarray=xaxis)\n",
    "    ax[0].plot(x, xaxis_t, label='t='+str(t))\n",
    "    xaxis_t1 = pvdfile.read_point_set_data(t, 'T', pointsetarray=xaxis1)\n",
    "    ax[1].plot(x1, xaxis_t1, label='t='+str(t))\n",
    "ax[0].set_title(title)\n",
    "ax[0].set_xlabel(coordinate)\n",
    "ax[0].set_ylabel(variables[0])\n",
    "ax[0].legend()\n",
    "ax[0].grid()\n",
    "ax[1].set_title(title)\n",
    "ax[1].set_xlabel(coordinate)\n",
    "ax[1].set_ylabel(variables[1])\n",
    "ax[1].legend()\n",
    "ax[1].grid()\n",
    "plt.savefig(\"plot.png\")\n",
    "plt.show()"
   ]
  },
  {
   "cell_type": "code",
   "execution_count": null,
   "metadata": {},
   "outputs": [],
   "source": [
    "Links:\n",
    "- description: https://www.opengeosys.org/docs/benchmarks/reactive-transport/thermaldiffusion/thermaldiffusion/\n",
    "- project file: https://gitlab.opengeosys.org/ogs/ogs/-/blob/master/Tests/Data/Parabolic/ComponentTransport/ThermalDiffusion/TemperatureField_transport.prj"
   ]
  },
  {
   "cell_type": "markdown",
   "metadata": {},
   "source": [
    "**References**\n",
    "- Grunwald et al. (2021) (under review)\n",
    "- ..."
   ]
  },
  {
   "cell_type": "markdown",
   "metadata": {},
   "source": [
    "**Credits**\n",
    "- NN for models set-up\n",
    "- Jörg Buchwald for [ogs6py](https://github.com/joergbuchwald/ogs6py) and VTUInterface (JOSS review pending) https://joss.theoj.org/papers/6ddcac13634c6373e6e808952fdf4abc\n"
   ]
  }
 ],
 "metadata": {
  "kernelspec": {
   "display_name": "Python 3",
   "language": "python",
   "name": "python3"
  },
  "language_info": {
   "codemirror_mode": {
    "name": "ipython",
    "version": 3
   },
   "file_extension": ".py",
   "mimetype": "text/x-python",
   "name": "python",
   "nbconvert_exporter": "python",
   "pygments_lexer": "ipython3",
   "version": "3.7.4"
  }
 },
 "nbformat": 4,
 "nbformat_minor": 5
}
