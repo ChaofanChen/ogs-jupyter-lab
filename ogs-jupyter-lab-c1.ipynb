{
 "cells": [
  {
   "cell_type": "markdown",
   "id": "4c08803a",
   "metadata": {
    "tags": []
   },
   "source": [
    "**ogs@jupyter-lab: C process: Conservative Tracer**"
   ]
  },
  {
   "cell_type": "markdown",
   "id": "2f9b3ca4",
   "metadata": {
    "tags": []
   },
   "source": [
    "<!--- ![tu-dresden-blue.png](attachment:tu-dresden-blue.png) --->\n",
    "<!--- <img src=\"ogs-workflows.png\" alt=\"drawing\" width=\"300\"/> --->\n",
    "<img src=\"icross-logo-ok.png\" alt=\"drawing\" width=\"100\"/>"
   ]
  },
  {
   "cell_type": "markdown",
   "id": "8af117f3-3ade-4aea-a18f-e9023cdaeae0",
   "metadata": {},
   "source": [
    "**Running ogs using [ogs6py](https://github.com/joergbuchwald/ogs6py)**"
   ]
  },
  {
   "cell_type": "code",
   "execution_count": 3,
   "id": "85143f21-f2ef-43ab-a2a3-9412f1ca55fa",
   "metadata": {
    "tags": []
   },
   "outputs": [
    {
     "name": "stdout",
     "output_type": "stream",
     "text": [
      "===============\n",
      ">>> run ogs <<<\n",
      "OGS finished with project file ConTracer_1d.prj.\n",
      "Execution took 0.2954525947570801 s\n"
     ]
    }
   ],
   "source": [
    "from ogs6py import ogs\n",
    "#run ogs\n",
    "PATH_OGS=\"/home/ok/ogs/build/release/bin/\"\n",
    "print(\"===============\")\n",
    "print(\">>> run ogs <<<\")\n",
    "model = ogs.OGS(PROJECT_FILE=\"ConTracer_1d.prj\")\n",
    "model.run_model(path=PATH_OGS,LOGFILE=\"console.log\")"
   ]
  },
  {
   "cell_type": "markdown",
   "id": "4cb395b7-9b10-4a39-b914-929265094f56",
   "metadata": {
    "tags": []
   },
   "source": [
    "**Extracting results using [VTUInterface](https://github.com/joergbuchwald/VTUinterface)**"
   ]
  },
  {
   "cell_type": "code",
   "execution_count": null,
   "id": "e87b6274",
   "metadata": {
    "tags": []
   },
   "outputs": [],
   "source": [
    "# read and process (point interpolation) vtu- and pvd-files \n",
    "import vtuIO\n",
    "import numpy as np\n",
    "import matplotlib.pyplot as plt\n",
    "import matplotlib.tri as tri\n",
    "print(\"=====================\")\n",
    "print(\">>> print results <<<\")\n",
    "pvdfile=vtuIO.PVDIO(\"ConTracer_1d.pvd\", dim=1)\n",
    "# define xaxis and diagonal (list)\n",
    "xaxis =  [(i,0,0) for i in np.linspace(start=0.0, stop=4.7, num=100)]\n",
    "r_x = np.array(xaxis)[:,0]\n",
    "# define timestep\n",
    "time = [0,118800,237600,356400,594000,1184400]\n",
    "# read and interpolate from vtu-files listed in pvd\n",
    "for t in time:\n",
    "    function_xaxis_t = pvdfile.read_point_set_data(t, 'Cs', pointsetarray=xaxis)\n",
    "    plt.plot(r_x, function_xaxis_t, label='t='+str(t))\n",
    "# plot formatting\n",
    "titlestring=\"C process: Conservative Tracer\"\n",
    "plt.title(titlestring)\n",
    "#plt.xscale('log')\n",
    "plt.xlabel('x')\n",
    "plt.ylabel('Concentration')\n",
    "plt.legend()\n",
    "plt.grid()\n",
    "plt.savefig(\"profile.png\")\n",
    "plt.show()"
   ]
  },
  {
   "cell_type": "code",
   "execution_count": null,
   "id": "78afcf25",
   "metadata": {},
   "outputs": [],
   "source": [
    "import time\n",
    "print(time.ctime())"
   ]
  },
  {
   "cell_type": "markdown",
   "id": "54a4390e-6829-4e80-a9d1-27438146702d",
   "metadata": {
    "tags": []
   },
   "source": [
    "**Results have been shown using [matplotlib](https://matplotlib.org/)**"
   ]
  },
  {
   "cell_type": "markdown",
   "id": "c441e9b0",
   "metadata": {
    "tags": []
   },
   "source": [
    "**OGS links**\n",
    "- description: https://www.opengeosys.org/docs/benchmarks/\n",
    "- project file: https://gitlab.opengeosys.org/ogs/ogs/-/blob/master/Tests/Data/Parabolic/ComponentTransport/ConTracer/ConTracer_1d.prj\n",
    "- notebook compilation by OK (https://github.com/OlafKolditz/ogs-jupyter-lab)"
   ]
  },
  {
   "cell_type": "markdown",
   "id": "a1f07676",
   "metadata": {},
   "source": [
    "**Credits**\n",
    "- Tom Fischer for this benchmark set up\n",
    "- Jörg Buchwald for ogs6py and VTUInterface (https://joss.theoj.org/papers/6ddcac13634c6373e6e808952fdf4abc)"
   ]
  }
 ],
 "metadata": {
  "kernelspec": {
   "display_name": "Python 3",
   "language": "python",
   "name": "python3"
  },
  "language_info": {
   "codemirror_mode": {
    "name": "ipython",
    "version": 3
   },
   "file_extension": ".py",
   "mimetype": "text/x-python",
   "name": "python",
   "nbconvert_exporter": "python",
   "pygments_lexer": "ipython3",
   "version": "3.8.10"
  }
 },
 "nbformat": 4,
 "nbformat_minor": 5
}
