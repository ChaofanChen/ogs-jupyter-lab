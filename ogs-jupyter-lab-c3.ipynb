{
 "cells": [
  {
   "cell_type": "markdown",
   "id": "8bb823b7",
   "metadata": {
    "tags": []
   },
   "source": [
    "**ogs@jupyter-lab: RTP: Dissoluion/precipitation equlibrium reaction**"
   ]
  },
  {
   "cell_type": "markdown",
   "id": "2f9b3ca4",
   "metadata": {
    "tags": []
   },
   "source": [
    "<!--- ![tu-dresden-blue.png](attachment:tu-dresden-blue.png) --->\n",
    "<!--- <img src=\"ogs-workflows.png\" alt=\"drawing\" width=\"300\"/> --->\n",
    "<img src=\"icross-logo-ok.png\" alt=\"drawing\" width=\"100\"/>"
   ]
  },
  {
   "cell_type": "markdown",
   "id": "8af117f3-3ade-4aea-a18f-e9023cdaeae0",
   "metadata": {},
   "source": [
    "**Running ogs using [ogs6py](https://github.com/joergbuchwald/ogs6py)**"
   ]
  },
  {
   "cell_type": "code",
   "execution_count": null,
   "id": "85143f21-f2ef-43ab-a2a3-9412f1ca55fa",
   "metadata": {
    "tags": []
   },
   "outputs": [
    {
     "name": "stdout",
     "output_type": "stream",
     "text": [
      "===============\n",
      ">>> run ogs <<<\n"
     ]
    }
   ],
   "source": [
    "from ogs6py import ogs\n",
    "#run ogs\n",
    "PATH_OGS=\"/home/ok/ogs/build/release/bin/\"\n",
    "print(\"===============\")\n",
    "print(\">>> run ogs <<<\")\n",
    "model = ogs.OGS(PROJECT_FILE=\"calcite.prj\")\n",
    "model.run_model(path=PATH_OGS,LOGFILE=\"console.log\")"
   ]
  },
  {
   "cell_type": "markdown",
   "id": "4cb395b7-9b10-4a39-b914-929265094f56",
   "metadata": {
    "tags": []
   },
   "source": [
    "**Extracting results using [VTUInterface](https://github.com/joergbuchwald/VTUinterface)**"
   ]
  },
  {
   "cell_type": "code",
   "execution_count": null,
   "id": "e87b6274",
   "metadata": {
    "tags": []
   },
   "outputs": [],
   "source": [
    "# read and process (point interpolation) vtu- and pvd-files \n",
    "import vtuIO\n",
    "import numpy as np\n",
    "import matplotlib.pyplot as plt\n",
    "import matplotlib.tri as tri\n",
    "print(\"=====================\")\n",
    "print(\">>> print results <<<\")\n",
    "pvdfile=vtuIO.PVDIO(\"calcite.pvd\", dim=1)\n",
    "# define xaxis and diagonal (list)\n",
    "xaxis =  [(i,0,0) for i in np.linspace(start=0.0, stop=0.5, num=100)]\n",
    "fig, ax = plt.subplots(ncols=2, figsize=(12,5))\n",
    "r_x = np.array(xaxis)[:,0]\n",
    "# define timestep\n",
    "time = [0,4200,12600,21000]\n",
    "# read and interpolate from vtu-files listed in pvd\n",
    "for t in time:\n",
    "    function_xaxis_t = pvdfile.read_point_set_data(t, 'Cl', pointsetarray=xaxis)\n",
    "    ax[0].plot(r_x, function_xaxis_t, label='t='+str(t))\n",
    "    function_xaxis_t = pvdfile.read_point_set_data(t, 'Mg', pointsetarray=xaxis)\n",
    "    ax[0].plot(r_x, function_xaxis_t, label='t='+str(t))\n",
    "    function_xaxis_t = pvdfile.read_point_set_data(t, 'C(4)', pointsetarray=xaxis)\n",
    "    ax[1].plot(r_x, function_xaxis_t, label='t='+str(t))\n",
    "    function_xaxis_t = pvdfile.read_point_set_data(t, 'Ca', pointsetarray=xaxis)\n",
    "    ax[1].plot(r_x, function_xaxis_t, label='t='+str(t))\n",
    "# plot formatting\n",
    "titlestring=\"C process: \"\n",
    "#\n",
    "ax[0].set_title(titlestring+' Cl-, Mg2+')\n",
    "ax[0].set_yscale('log')\n",
    "ax[0].set_xlabel('x')\n",
    "ax[0].set_ylabel('Concentration')\n",
    "ax[0].legend()\n",
    "ax[0].grid()\n",
    "#\n",
    "ax[1].set_title(titlestring+' C(4), Ca2+')\n",
    "ax[1].set_yscale('log')\n",
    "ax[1].set_xlabel('x')\n",
    "ax[1].set_ylabel('Concentration')\n",
    "ax[1].legend()\n",
    "ax[1].grid()\n",
    "#\n",
    "plt.savefig(\"profile.png\")\n",
    "plt.show()"
   ]
  },
  {
   "cell_type": "code",
   "execution_count": 3,
   "id": "78afcf25",
   "metadata": {},
   "outputs": [
    {
     "name": "stdout",
     "output_type": "stream",
     "text": [
      "Tue Jul 13 17:24:10 2021\n"
     ]
    }
   ],
   "source": [
    "import time\n",
    "print(time.ctime())"
   ]
  },
  {
   "cell_type": "markdown",
   "id": "54a4390e-6829-4e80-a9d1-27438146702d",
   "metadata": {
    "tags": []
   },
   "source": [
    "**Results have been shown using [matplotlib](https://matplotlib.org/)**"
   ]
  },
  {
   "cell_type": "markdown",
   "id": "5992ce20",
   "metadata": {
    "tags": []
   },
   "source": [
    "**OGS links**\n",
    "- description: https://www.opengeosys.org/docs/benchmarks/reactive-transport/calcite/\n",
    "- project file: https://gitlab.opengeosys.org/ogs/ogs/-/blob/master/Tests/Data/Parabolic/ComponentTransport/ReactiveTransport/EquilibriumPhase/calcite.prj\n",
    "- notebook provision (temporarily): https://github.com/OlafKolditz/ogs-jupyter-lab"
   ]
  },
  {
   "cell_type": "markdown",
   "id": "c2b26ded",
   "metadata": {},
   "source": [
    "**Credits**\n",
    "- Renchao Lu for ogs6iphreeqc and this benchmark set up\n",
    "- Jörg Buchwald for ogs6py and VTUInterface (https://joss.theoj.org/papers/6ddcac13634c6373e6e808952fdf4abc)\n",
    "- Vanessa Montoya for benchmark description\n",
    "please add further contributions"
   ]
  }
 ],
 "metadata": {
  "kernelspec": {
   "display_name": "Python 3",
   "language": "python",
   "name": "python3"
  },
  "language_info": {
   "codemirror_mode": {
    "name": "ipython",
    "version": 3
   },
   "file_extension": ".py",
   "mimetype": "text/x-python",
   "name": "python",
   "nbconvert_exporter": "python",
   "pygments_lexer": "ipython3",
   "version": "3.8.10"
  }
 },
 "nbformat": 4,
 "nbformat_minor": 5
}
