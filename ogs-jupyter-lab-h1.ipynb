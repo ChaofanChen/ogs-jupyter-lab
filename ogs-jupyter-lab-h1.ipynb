{
 "cells": [
  {
   "cell_type": "code",
   "execution_count": 1,
   "id": "c76f1dec-f210-423c-8e48-57d15c66f6f6",
   "metadata": {
    "tags": []
   },
   "outputs": [],
   "source": [
    "title = \"ogs@jupyter-lab: Elliptic: H process: Pumping well\"\n",
    "variable = \"pressure\"\n",
    "coordinates = \"r\""
   ]
  },
  {
   "cell_type": "markdown",
   "id": "c6942104-ce23-48c0-bc3f-035f086c825f",
   "metadata": {},
   "source": [
    "**ogs@jupyter-lab: Elliptic: H process: Pumping well**"
   ]
  },
  {
   "cell_type": "markdown",
   "id": "b900a0bc",
   "metadata": {
    "tags": []
   },
   "source": [
    "<!--- ![tu-dresden-blue.png](attachment:tu-dresden-blue.png) --->\n",
    "<img src=\"ogs-teaching.png\" alt=\"drawing\" width=\"300\"/>"
   ]
  },
  {
   "cell_type": "markdown",
   "id": "8af117f3-3ade-4aea-a18f-e9023cdaeae0",
   "metadata": {
    "tags": []
   },
   "source": [
    "**Running ogs using [ogs6py](https://github.com/joergbuchwald/ogs6py)**"
   ]
  },
  {
   "cell_type": "code",
   "execution_count": 2,
   "id": "85143f21-f2ef-43ab-a2a3-9412f1ca55fa",
   "metadata": {
    "tags": []
   },
   "outputs": [
    {
     "name": "stdout",
     "output_type": "stream",
     "text": [
      "===============\n",
      ">>> run ogs <<<\n",
      "OGS finished with project file circle_1e3_axi.prj.\n",
      "Execution took 0.03668785095214844 s\n"
     ]
    }
   ],
   "source": [
    "from ogs6py import ogs\n",
    "#run ogs\n",
    "PATH_OGS=\"/home/ok/ogs/build/release/bin/\"\n",
    "print(\"===============\")\n",
    "print(\">>> run ogs <<<\")\n",
    "model = ogs.OGS(PROJECT_FILE=\"circle_1e3_axi.prj\")\n",
    "model.run_model(path=PATH_OGS,LOGFILE=\"console.log\")"
   ]
  },
  {
   "cell_type": "markdown",
   "id": "4cb395b7-9b10-4a39-b914-929265094f56",
   "metadata": {
    "tags": []
   },
   "source": [
    "**Extracting results using [VTUInterface](https://github.com/joergbuchwald/VTUinterface)**"
   ]
  },
  {
   "cell_type": "code",
   "execution_count": 3,
   "id": "ddae910b-4fc6-4384-bebf-723113924613",
   "metadata": {
    "tags": []
   },
   "outputs": [
    {
     "name": "stdout",
     "output_type": "stream",
     "text": [
      "=====================\n",
      ">>> print results <<<\n",
      "circle_1e3_axi.pvd\n"
     ]
    },
    {
     "data": {
      "image/png": "[encoded data removed]",
      "text/plain": [
       "<Figure size 432x288 with 1 Axes>"
      ]
     },
     "metadata": {
      "needs_background": "light"
     },
     "output_type": "display_data"
    }
   ],
   "source": [
    "# read and process (point interpolation) vtu- and pvd-files \n",
    "import vtuIO\n",
    "import numpy as np\n",
    "import matplotlib.pyplot as plt\n",
    "import matplotlib.tri as tri\n",
    "print(\"=====================\")\n",
    "print(\">>> print results <<<\")\n",
    "pvdfile=vtuIO.PVDIO(\"circle_1e3_axi.pvd\", dim=1)\n",
    "# define xaxis and diagonal (list)\n",
    "xaxis =  [(i,0,0) for i in np.linspace(start=0.0, stop=1.0, num=100)]\n",
    "r_x = np.array(xaxis)[:,0]\n",
    "# define timestep\n",
    "time = [0.0,1.0]\n",
    "# read and interpolate from vtu-files listed in pvd\n",
    "for t in time:\n",
    "    function_xaxis_t = pvdfile.read_point_set_data(t, 'pressure', pointsetarray=xaxis)\n",
    "    plt.plot(r_x, function_xaxis_t, label='t='+str(t))\n",
    "# plot formatting\n",
    "plt.title(title)\n",
    "#plt.xscale('log')\n",
    "plt.xlabel(coordinates)\n",
    "plt.ylabel(variable)\n",
    "plt.legend()\n",
    "plt.grid()\n",
    "plt.savefig(\"profile.png\")\n",
    "plt.show()"
   ]
  },
  {
   "cell_type": "code",
   "execution_count": 4,
   "id": "016db304-89da-40b4-8d3b-1eb0aa6adc4a",
   "metadata": {},
   "outputs": [
    {
     "name": "stdout",
     "output_type": "stream",
     "text": [
      "Thu Jun  3 01:21:39 2021\n"
     ]
    }
   ],
   "source": [
    "import time\n",
    "print(time.ctime())"
   ]
  },
  {
   "cell_type": "markdown",
   "id": "54a4390e-6829-4e80-a9d1-27438146702d",
   "metadata": {
    "tags": []
   },
   "source": [
    "**Results have been shown using [matplotlib](https://matplotlib.org/)**"
   ]
  },
  {
   "cell_type": "markdown",
   "id": "3d3ebdb5",
   "metadata": {
    "tags": []
   },
   "source": [
    "**OGS links**\n",
    "- description: https://www.opengeosys.org/docs/benchmarks/elliptic/elliptic-pde-with-dirichlet-and-nodal-source-term/\n",
    "- project file: https://gitlab.opengeosys.org/ogs/ogs/-/blob/master/Tests/Data/Elliptic/circle_radius_1/circle_1e6_axi.prj\n",
    "- notebook compilation by OK (https://github.com/OlafKolditz/ogs-jupyter-lab)"
   ]
  },
  {
   "cell_type": "markdown",
   "id": "1fa49ad9",
   "metadata": {
    "tags": []
   },
   "source": [
    "**Credits**\n",
    "- Jörg Buchwald for ogs6py and VTUInterface (JOSS review pending) https://joss.theoj.org/papers/6ddcac13634c6373e6e808952fdf4abc\n",
    "- Tom Fischer for this benchmark set up"
   ]
  }
 ],
 "metadata": {
  "kernelspec": {
   "display_name": "Python 3",
   "language": "python",
   "name": "python3"
  },
  "language_info": {
   "codemirror_mode": {
    "name": "ipython",
    "version": 3
   },
   "file_extension": ".py",
   "mimetype": "text/x-python",
   "name": "python",
   "nbconvert_exporter": "python",
   "pygments_lexer": "ipython3",
   "version": "3.8.5"
  }
 },
 "nbformat": 4,
 "nbformat_minor": 5
}
