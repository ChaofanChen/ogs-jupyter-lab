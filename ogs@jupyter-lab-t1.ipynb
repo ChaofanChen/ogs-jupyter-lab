{
 "cells": [
  {
   "cell_type": "markdown",
   "id": "701c36ef-c7d0-498b-9218-fb51d685d348",
   "metadata": {
    "tags": []
   },
   "source": [
    "**ogs@jupyter-lab: heat diffusion**"
   ]
  },
  {
   "cell_type": "markdown",
   "id": "102806cc-37f2-4ffe-b372-0d727eb0987f",
   "metadata": {},
   "source": [
    "<!--- ![tu-dresden-blue.png](attachment:tu-dresden-blue.png) --->\n",
    "<img src=\"ogs-workflows.png\" alt=\"drawing\" width=\"300\"/>"
   ]
  },
  {
   "cell_type": "markdown",
   "id": "752ca47e-b8f5-4a44-b556-caea7971f51b",
   "metadata": {},
   "source": [
    "**Running ogs using [ogs6py](https://github.com/joergbuchwald/ogs6py)**"
   ]
  },
  {
   "cell_type": "code",
   "execution_count": 1,
   "id": "85143f21-f2ef-43ab-a2a3-9412f1ca55fa",
   "metadata": {},
   "outputs": [
    {
     "name": "stdout",
     "output_type": "stream",
     "text": [
      "===============\n",
      ">>> run ogs <<<\n",
      "OGS finished with project file square_1e2_axi.prj.\n",
      "Execution took 0.03738594055175781 s\n"
     ]
    }
   ],
   "source": [
    "from ogs6py import ogs\n",
    "#run ogs\n",
    "print(\"===============\")\n",
    "print(\">>> run ogs <<<\")\n",
    "model = ogs.OGS(PROJECT_FILE=\"square_1e2_axi.prj\", MKL=False)\n",
    "model.mesh.addMesh(filename=\"square_1x1_quad_1e2.vtu\")\n",
    "model.geo.addGeom(filename=\"square_1x1_axi.gml\")\n",
    "model.runModel(path=\"/home/ok/ogs/build/release/bin/\",LOGFILE=\"example.log\")"
   ]
  },
  {
   "cell_type": "markdown",
   "id": "4cb395b7-9b10-4a39-b914-929265094f56",
   "metadata": {
    "tags": []
   },
   "source": [
    "**Extracting results using [VTUInterface](https://github.com/joergbuchwald/VTUinterface)**"
   ]
  },
  {
   "cell_type": "code",
   "execution_count": 2,
   "id": "ddae910b-4fc6-4384-bebf-723113924613",
   "metadata": {
    "tags": []
   },
   "outputs": [
    {
     "name": "stdout",
     "output_type": "stream",
     "text": [
      "=====================\n",
      ">>> print results <<<\n",
      "./square_1e2_axi.pvd\n",
      "./square_1e2_axi_ts_2_t_2.000000.vtu\n"
     ]
    },
    {
     "data": {
      "image/png": "[encoded data removed]",
      "text/plain": [
       "<Figure size 432x288 with 1 Axes>"
      ]
     },
     "metadata": {
      "needs_background": "light"
     },
     "output_type": "display_data"
    }
   ],
   "source": [
    "import vtuIO\n",
    "import numpy as np\n",
    "import matplotlib.pyplot as plt\n",
    "import matplotlib.tri as tri\n",
    "print(\"=====================\")\n",
    "print(\">>> print results <<<\")\n",
    "pvdfile=vtuIO.PVDIO(\".\", \"square_1e2_axi.pvd\", dim=2)\n",
    "# define xaxis\n",
    "#xaxis =  [(i,0,0) for i in np.linspace(start=0.0, stop=1.0, num=10)]\n",
    "#r_x = np.array(xaxis)[:,0]\n",
    "diagonal = [(i,i,0) for i in np.linspace(start=0.0, stop=1.4, num=100)]\n",
    "r_diag = np.sqrt(np.array(diagonal)[:,0]**2+np.array(diagonal)[:,1]**2)\n",
    "# define timestep\n",
    "time = [2.0]\n",
    "# read and interpolate from vtu-files listed in pvd\n",
    "#for t in time:\n",
    "#    xaxis_t = pvdfile.readPointSetData(t, 'temperature_interpolated', pointsetarray=xaxis)\n",
    "#    plt.plot(r_x, xaxis_t, label='t='+str(t))\n",
    "for t in time:\n",
    "    xaxis_t = pvdfile.readPointSetData(t, 'temperature', pointsetarray=diagonal)\n",
    "    plt.plot(r_diag, xaxis_t, label='t='+str(t))\n",
    "# plot formatting\n",
    "titlestring=\"OGS-TH2M: T process\"\n",
    "plt.title(titlestring)\n",
    "#plt.xscale('log')\n",
    "plt.xlabel('x')\n",
    "plt.ylabel('Temperature interpolated')\n",
    "plt.legend()\n",
    "plt.grid()\n",
    "plt.savefig(\"result_TH2M_T_dirichlet.png\")\n",
    "plt.show()"
   ]
  },
  {
   "cell_type": "markdown",
   "id": "54a4390e-6829-4e80-a9d1-27438146702d",
   "metadata": {
    "tags": []
   },
   "source": [
    "**Results have been shown using [matplotlib](https://matplotlib.org/)**"
   ]
  },
  {
   "cell_type": "code",
   "execution_count": 3,
   "id": "4d24afa0-17b8-436a-9bb7-8e5e2fa3e043",
   "metadata": {
    "tags": []
   },
   "outputs": [
    {
     "name": "stdout",
     "output_type": "stream",
     "text": [
      "square_1e2_axi_ts_2_t_2.000000.vtu\n"
     ]
    },
    {
     "data": {
      "text/plain": [
       "<matplotlib.colorbar.Colorbar at 0x7f00297d69a0>"
      ]
     },
     "execution_count": 3,
     "metadata": {},
     "output_type": "execute_result"
    },
    {
     "data": {
      "image/png": "[encoded data removed]",
      "text/plain": [
       "<Figure size 360x360 with 2 Axes>"
      ]
     },
     "metadata": {
      "needs_background": "light"
     },
     "output_type": "display_data"
    }
   ],
   "source": [
    "m_plot=vtuIO.VTUIO(\"square_1e2_axi_ts_2_t_2.000000.vtu\", dim=2)\n",
    "triang=tri.Triangulation(m_plot.points[:,0],m_plot.points[:,1])\n",
    "u_plot = m_plot.getField(\"temperature\")#.T[0]\n",
    "#fig, ax = plt.subplots(ncols=2, figsize=(10,10))\n",
    "#contour_left = ax[0].tricontourf(triang, u_plot)\n",
    "fig, ax = plt.subplots(figsize=(5,5))\n",
    "contour_left = ax.tricontourf(triang, u_plot)\n",
    "fig.colorbar(contour_left,label='$u_x$ / [m]')"
   ]
  },
  {
   "cell_type": "code",
   "execution_count": null,
   "id": "fb65dd04-13ec-4ebf-b7c1-e35a5c66dfea",
   "metadata": {},
   "outputs": [],
   "source": []
  },
  {
   "cell_type": "code",
   "execution_count": null,
   "id": "9c43aab7-2dbb-433b-82e6-6541094cb235",
   "metadata": {},
   "outputs": [],
   "source": []
  }
 ],
 "metadata": {
  "kernelspec": {
   "display_name": "Python 3",
   "language": "python",
   "name": "python3"
  },
  "language_info": {
   "codemirror_mode": {
    "name": "ipython",
    "version": 3
   },
   "file_extension": ".py",
   "mimetype": "text/x-python",
   "name": "python",
   "nbconvert_exporter": "python",
   "pygments_lexer": "ipython3",
   "version": "3.8.5"
  }
 },
 "nbformat": 4,
 "nbformat_minor": 5
}
