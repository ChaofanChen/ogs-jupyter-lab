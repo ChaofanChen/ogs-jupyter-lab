{
 "cells": [
  {
   "cell_type": "markdown",
   "id": "c9e57376",
   "metadata": {
    "tags": []
   },
   "source": [
    "**ogs-jupyter-lab: test run ogs-ontainer**"
   ]
  },
  {
   "cell_type": "markdown",
   "id": "0b601bd1",
   "metadata": {
    "tags": []
   },
   "source": [
    "<!--- ![tu-dresden-blue.png](attachment:tu-dresden-blue.png) --->\n",
    "<img src=\"ogs-jupyter-lab+decovalex2023.png\" alt=\"drawing\" width=\"300\"/>"
   ]
  },
  {
   "cell_type": "markdown",
   "id": "6064292a",
   "metadata": {},
   "source": [
    "**Description**\n",
    "\n",
    "..."
   ]
  },
  {
   "cell_type": "markdown",
   "id": "8683ff4f",
   "metadata": {},
   "source": [
    "**Running ogs using [ogs6py](https://github.com/joergbuchwald/ogs6py)**"
   ]
  },
  {
   "cell_type": "code",
   "execution_count": 3,
   "id": "85143f21-f2ef-43ab-a2a3-9412f1ca55fa",
   "metadata": {
    "tags": []
   },
   "outputs": [
    {
     "name": "stdout",
     "output_type": "stream",
     "text": [
      "===============\n",
      ">>> run ogs <<<\n",
      "OGS finished with project file /home/ok/ogs/ogs/Tests/Data/Elliptic/square_1x1_SteadyStateDiffusion/square_1e0.prj.\n",
      "Execution took 0.15087580680847168 s\n",
      "OGS execution not successfull. Error code: 127\n"
     ]
    },
    {
     "ename": "RuntimeError",
     "evalue": "",
     "output_type": "error",
     "traceback": [
      "\u001b[0;31m---------------------------------------------------------------------------\u001b[0m",
      "\u001b[0;31mRuntimeError\u001b[0m                              Traceback (most recent call last)",
      "\u001b[0;32m<ipython-input-3-aa8806ae377d>\u001b[0m in \u001b[0;36m<module>\u001b[0;34m\u001b[0m\n\u001b[1;32m     12\u001b[0m \u001b[0;31m####################################################\u001b[0m\u001b[0;34m\u001b[0m\u001b[0;34m\u001b[0m\u001b[0;34m\u001b[0m\u001b[0m\n\u001b[1;32m     13\u001b[0m \u001b[0;31m#using container\u001b[0m\u001b[0;34m\u001b[0m\u001b[0;34m\u001b[0m\u001b[0;34m\u001b[0m\u001b[0m\n\u001b[0;32m---> 14\u001b[0;31m \u001b[0mmodel\u001b[0m\u001b[0;34m.\u001b[0m\u001b[0mrun_model\u001b[0m\u001b[0;34m(\u001b[0m\u001b[0mpath\u001b[0m\u001b[0;34m=\u001b[0m\u001b[0mPATH_SINGULARITY\u001b[0m\u001b[0;34m,\u001b[0m\u001b[0mcontainer_path\u001b[0m\u001b[0;34m=\u001b[0m\u001b[0mPATH_CONTAINER\u001b[0m\u001b[0;34m,\u001b[0m\u001b[0mlogfile\u001b[0m\u001b[0;34m=\u001b[0m\u001b[0;34m\"console.log\"\u001b[0m\u001b[0;34m)\u001b[0m\u001b[0;34m\u001b[0m\u001b[0;34m\u001b[0m\u001b[0m\n\u001b[0m\u001b[1;32m     15\u001b[0m \u001b[0;31m####################################################\u001b[0m\u001b[0;34m\u001b[0m\u001b[0;34m\u001b[0m\u001b[0;34m\u001b[0m\u001b[0m\n\u001b[1;32m     16\u001b[0m \u001b[0;31m#Template von Jasper\u001b[0m\u001b[0;34m\u001b[0m\u001b[0;34m\u001b[0m\u001b[0;34m\u001b[0m\u001b[0m\n",
      "\u001b[0;32m~/.local/lib/python3.8/site-packages/ogs6py/ogs.py\u001b[0m in \u001b[0;36mrun_model\u001b[0;34m(self, **args)\u001b[0m\n\u001b[1;32m    127\u001b[0m         \u001b[0;32melse\u001b[0m\u001b[0;34m:\u001b[0m\u001b[0;34m\u001b[0m\u001b[0;34m\u001b[0m\u001b[0m\n\u001b[1;32m    128\u001b[0m             \u001b[0mprint\u001b[0m\u001b[0;34m(\u001b[0m\u001b[0;34mf\"OGS execution not successfull. Error code: {returncode.returncode}\"\u001b[0m\u001b[0;34m)\u001b[0m\u001b[0;34m\u001b[0m\u001b[0;34m\u001b[0m\u001b[0m\n\u001b[0;32m--> 129\u001b[0;31m             \u001b[0;32mraise\u001b[0m \u001b[0mRuntimeError\u001b[0m\u001b[0;34m\u001b[0m\u001b[0;34m\u001b[0m\u001b[0m\n\u001b[0m\u001b[1;32m    130\u001b[0m \u001b[0;34m\u001b[0m\u001b[0m\n\u001b[1;32m    131\u001b[0m     \u001b[0;32mdef\u001b[0m \u001b[0m__dict2xml\u001b[0m\u001b[0;34m(\u001b[0m\u001b[0mself\u001b[0m\u001b[0;34m,\u001b[0m \u001b[0mparent\u001b[0m\u001b[0;34m,\u001b[0m \u001b[0mdictionary\u001b[0m\u001b[0;34m)\u001b[0m\u001b[0;34m:\u001b[0m\u001b[0;34m\u001b[0m\u001b[0;34m\u001b[0m\u001b[0m\n",
      "\u001b[0;31mRuntimeError\u001b[0m: "
     ]
    }
   ],
   "source": [
    "import multiprocessing\n",
    "from ogs6py import ogs\n",
    "#run ogs\n",
    "PATH_OGS = \"/home/ok/ogs/build/release/bin/\"\n",
    "PATH_SINGULARITY = \"/usr/bin/\"\n",
    "PATH_CONTAINER = \"/home/ok/ogs/container/gcc-default-system-cmake-f0a156cb-0fe23ea890f5.sif\"\n",
    "PROJECT_FILE = \"/home/ok/ogs/ogs/Tests/Data/Elliptic/square_1x1_SteadyStateDiffusion/square_1e0.prj\"\n",
    "print(\"===============\")\n",
    "print(\">>> run ogs <<<\")\n",
    "model = ogs.OGS(PROJECT_FILE=PROJECT_FILE)\n",
    "model.run_model(path=PATH_OGS,logfile=\"console.log\")\n",
    "####################################################\n",
    "#using container\n",
    "model.run_model(path=PATH_SINGULARITY,container_path=PATH_CONTAINER,logfile=\"console.log\")\n",
    "####################################################\n",
    "#Template von Jasper\n",
    "# listing model as process for parallel processing\n",
    "#ogs_process = multiprocessing.Process(\n",
    "#    target=model.run_model,\n",
    "#    kwargs={\"path\":OGS_PATH, \"container_path\":CONTAINER_PATH,\"LOGFILE\":\"example.log\"})\n",
    "# start of ogs in background\n",
    "#ogs_process.start()\n",
    "#print(\">>> ogs is running in background <<<\")"
   ]
  },
  {
   "cell_type": "markdown",
   "id": "442ab8bb",
   "metadata": {
    "tags": []
   },
   "source": [
    "**Extracting results using [VTUInterface](https://github.com/joergbuchwald/VTUinterface)**"
   ]
  },
  {
   "cell_type": "code",
   "execution_count": 8,
   "id": "a823f8e3",
   "metadata": {},
   "outputs": [
    {
     "name": "stdout",
     "output_type": "stream",
     "text": [
      "Wed Nov  3 21:37:20 2021\n"
     ]
    }
   ],
   "source": [
    "import time\n",
    "print(time.ctime())"
   ]
  },
  {
   "cell_type": "markdown",
   "id": "54a4390e-6829-4e80-a9d1-27438146702d",
   "metadata": {
    "tags": []
   },
   "source": [
    "**Results have been shown using [matplotlib](https://matplotlib.org/)**"
   ]
  },
  {
   "cell_type": "markdown",
   "id": "3a47f1f1-7d5f-4950-9284-26b1fc1ed88f",
   "metadata": {
    "tags": []
   },
   "source": [
    "**OGS links**\n",
    "- description: https://www.opengeosys.org/docs/benchmarks/hydro-thermal/decovalex-th/\n",
    "- project file: https://gitlab.opengeosys.org/ogs/ogs/-/blob/master/Tests/Data/Parabolic/HT/StaggeredCoupling/ADecovalexTHMCBasedHTExample/th_decovalex.prj"
   ]
  },
  {
   "cell_type": "markdown",
   "id": "f3d0f9af",
   "metadata": {},
   "source": [
    "**Credits**\n",
    "- Jörg Buchwald for [ogs6py](https://github.com/joergbuchwald/ogs6py) and [VTUInterface](https://github.com/joergbuchwald/VTUinterface)\n",
    "- Wenqing and Jörg for this benchmark set up\n",
    "- Pierre Navaro for providing code https://perso.univ-rennes1.fr/pierre.navaro/read-vtk-with-python.html"
   ]
  }
 ],
 "metadata": {
  "kernelspec": {
   "display_name": "Python 3",
   "language": "python",
   "name": "python3"
  },
  "language_info": {
   "codemirror_mode": {
    "name": "ipython",
    "version": 3
   },
   "file_extension": ".py",
   "mimetype": "text/x-python",
   "name": "python",
   "nbconvert_exporter": "python",
   "pygments_lexer": "ipython3",
   "version": "3.8.10"
  }
 },
 "nbformat": 4,
 "nbformat_minor": 5
}
