{
 "cells": [
  {
   "cell_type": "markdown",
   "id": "121460db",
   "metadata": {
    "tags": []
   },
   "source": [
    "**ogs-jupyter-lab: phase-field benchmarks: AT1**"
   ]
  },
  {
   "cell_type": "markdown",
   "id": "565192d6",
   "metadata": {
    "tags": []
   },
   "source": [
    "<!--- ![tu-dresden-blue.png](attachment:tu-dresden-blue.png) --->\n",
    "<img src=\"ogs-jupyter-lab.png\" alt=\"drawing\" width=\"200\"/>"
   ]
  },
  {
   "cell_type": "markdown",
   "id": "6064292a",
   "metadata": {},
   "source": [
    "**Description**\n",
    "\n",
    "..."
   ]
  },
  {
   "cell_type": "markdown",
   "id": "c80f4142",
   "metadata": {},
   "source": [
    "**Inspector**"
   ]
  },
  {
   "cell_type": "code",
   "execution_count": 16,
   "id": "5907758b",
   "metadata": {
    "scrolled": false
   },
   "outputs": [
    {
     "name": "stdout",
     "output_type": "stream",
     "text": [
      "inspecting vtu-file: /home/ok/ogs-jupyter-lab-dev/VPF/AT1_iso_tension_ts_9_t_0_900000_0.vtu\n"
     ]
    },
    {
     "data": {
      "text/html": [
       "<table><tr><th>Header</th><th>Data Arrays</th></tr><tr><td>\n",
       "<table>\n",
       "<tr><th>UnstructuredGrid</th><th>Information</th></tr>\n",
       "<tr><td>N Cells</td><td>2500</td></tr>\n",
       "<tr><td>N Points</td><td>3636</td></tr>\n",
       "<tr><td>X Bounds</td><td>0.000e+00, 1.000e+00</td></tr>\n",
       "<tr><td>Y Bounds</td><td>0.000e+00, 5.000e-02</td></tr>\n",
       "<tr><td>Z Bounds</td><td>0.000e+00, 5.000e-02</td></tr>\n",
       "<tr><td>N Arrays</td><td>7</td></tr>\n",
       "</table>\n",
       "\n",
       "</td><td>\n",
       "<table>\n",
       "<tr><th>Name</th><th>Field</th><th>Type</th><th>N Comp</th><th>Min</th><th>Max</th></tr>\n",
       "<tr><td>NodalForces</td><td>Points</td><td>float64</td><td>3</td><td>-4.050e-04</td><td>4.050e-04</td></tr>\n",
       "<tr><td>displacement</td><td>Points</td><td>float64</td><td>3</td><td>-5.662e-02</td><td>4.050e+00</td></tr>\n",
       "<tr><td>epsilon</td><td>Points</td><td>float64</td><td>6</td><td>-6.075e-01</td><td>4.050e+00</td></tr>\n",
       "<tr><td>phasefield</td><td>Points</td><td>float64</td><td>1</td><td>1.000e+00</td><td>1.000e+00</td></tr>\n",
       "<tr><td>sigma</td><td>Points</td><td>float64</td><td>6</td><td>-1.218e-13</td><td>4.050e+00</td></tr>\n",
       "<tr><td>OGS_VERSION</td><td>Fields</td><td>int8</td><td>1</td><td>4.500e+01</td><td>1.030e+02</td></tr>\n",
       "<tr><td>ispatch</td><td>Fields</td><td>int32</td><td>1</td><td>0.000e+00</td><td>0.000e+00</td></tr>\n",
       "</table>\n",
       "\n",
       "</td></tr> </table>"
      ],
      "text/plain": [
       "UnstructuredGrid (0x7f683f684160)\n",
       "  N Cells:\t2500\n",
       "  N Points:\t3636\n",
       "  X Bounds:\t0.000e+00, 1.000e+00\n",
       "  Y Bounds:\t0.000e+00, 5.000e-02\n",
       "  Z Bounds:\t0.000e+00, 5.000e-02\n",
       "  N Arrays:\t7"
      ]
     },
     "execution_count": 16,
     "metadata": {},
     "output_type": "execute_result"
    }
   ],
   "source": [
    "import pyvista as pv\n",
    "#filename = \"bar.vtu\"\n",
    "filename = \"/home/ok/ogs-jupyter-lab-dev/VPF/AT1_iso_tension_ts_9_t_0_900000_0.vtu\"\n",
    "mesh = pv.read(filename)\n",
    "print(\"inspecting vtu-file: \" + str(filename))\n",
    "mesh"
   ]
  },
  {
   "cell_type": "code",
   "execution_count": 48,
   "id": "409ac11f",
   "metadata": {},
   "outputs": [
    {
     "name": "stdout",
     "output_type": "stream",
     "text": [
      "inspecting xml-tree: AT1_iso_tensile.prj\n",
      "PARAMETERS: \n"
     ]
    },
    {
     "data": {
      "text/plain": [
       "['E',\n",
       " 'nu',\n",
       " 'k',\n",
       " 'gc',\n",
       " 'ls',\n",
       " 'rho_sr',\n",
       " 'displacement0',\n",
       " 'phasefield_ic',\n",
       " 'phasefield_bc',\n",
       " 'dirichlet0',\n",
       " 'Dirichlet_spatial',\n",
       " 'dirichlet_right_time',\n",
       " 'dirichlet_right']"
      ]
     },
     "execution_count": 48,
     "metadata": {},
     "output_type": "execute_result"
    }
   ],
   "source": [
    "from ogs6py import ogs\n",
    "project_file = \"AT1_iso_tensile.prj\"\n",
    "print(\"inspecting xml-tree: \" + str(project_file))\n",
    "model = ogs.OGS(INPUT_FILE=project_file,PROJECT_FILE=project_file)\n",
    "#print(\"PROCESS: \")\n",
    "#model.tree.find(\"./processes/process/type\").text\n",
    "print(\"PARAMETERS: \")\n",
    "[i.text for i in model.tree.findall(\"./parameters/parameter/name\")]\n",
    "#print(\"PROCESS: \")\n",
    "#[i.text for i in model.tree.findall(\"./processvars/parameter/name\")]\n",
    "#[i.text for i in model.tree.findall(\"./nonlinsolvers/parameter/name\")]\n",
    "#[i.text for i in model.tree.findall(\"./linsolvers/parameter/name\")]\n",
    "#[i.text for i in model.tree.findall(\"./parameters/parameter/name\")]"
   ]
  },
  {
   "cell_type": "markdown",
   "id": "390d4b40",
   "metadata": {},
   "source": [
    "**Running ogs (mode)**"
   ]
  },
  {
   "cell_type": "code",
   "execution_count": 19,
   "id": "85143f21-f2ef-43ab-a2a3-9412f1ca55fa",
   "metadata": {
    "scrolled": true,
    "tags": []
   },
   "outputs": [
    {
     "name": "stdout",
     "output_type": "stream",
     "text": [
      "===============\n",
      ">>> run ogs <<<\n",
      "run ogs container: multiprocessing\n",
      "OGS finished with project file AT1_iso_tensile.prj.\n",
      "Execution took 26.811366081237793 s\n"
     ]
    }
   ],
   "source": [
    "import multiprocessing\n",
    "from ogs6py import ogs\n",
    "print(\"===============\")\n",
    "print(\">>> run ogs <<<\")\n",
    "\n",
    "PATH_OGS = \"/home/ok/ogs/build/release/bin/\"\n",
    "PATH_SINGULARITY = \"/usr/bin/\"\n",
    "PATH_CONTAINER = \"/home/ok/ogs/container/gcc-10-openmpi-4.0.5-system-cmake-f0a156cb-4a3437aac8bc.sif\"\n",
    "PROJECT_FILE = \"AT1_iso_tensile.prj\"\n",
    "\n",
    "model = ogs.OGS(INPUT_FILE=project_file,PROJECT_FILE=project_file)\n",
    "\n",
    "i=3\n",
    "###\n",
    "#1 run ogs executeable\n",
    "if i==1:\n",
    "    print(\"run ogs executeable\")\n",
    "    model.run_model(path=PATH_OGS,logfile=\"console.log\")\n",
    "#model.run_model(args=\"-o ./full_coupling\")\n",
    "\n",
    "###\n",
    "#2 run ogs container\n",
    "if i==2:\n",
    "    print(\"run ogs container\")\n",
    "    model.run_model(path=PATH_SINGULARITY,container_path=PATH_CONTAINER,logfile=\"console.log\")\n",
    "\n",
    "###\n",
    "#3\n",
    "if i==3:\n",
    "    print(\"run ogs container: multiprocessing\")\n",
    "    ogs_process = multiprocessing.Process(\n",
    "        target=model.run_model,\n",
    "        kwargs={\"path\":PATH_SINGULARITY, \"container_path\":PATH_CONTAINER,\"logfile\":\"example.log\"})\n",
    "    ogs_process.start()\n",
    "###\n",
    "#4 run jupyter container\n",
    "if i==4:\n",
    "    print(\"run jupyter container\")\n",
    "    #!ogs PROJECT_FILE"
   ]
  },
  {
   "cell_type": "markdown",
   "id": "03e96e9b",
   "metadata": {},
   "source": [
    "**Analysing results**"
   ]
  },
  {
   "cell_type": "code",
   "execution_count": 24,
   "id": "f96960d2",
   "metadata": {},
   "outputs": [
    {
     "name": "stdout",
     "output_type": "stream",
     "text": [
      "Calling Paraview\n",
      "qt5ct: using qt5ct plugin\n",
      "qt5ct: D-Bus global menu: no\n"
     ]
    }
   ],
   "source": [
    "print(\"Calling Paraview\")\n",
    "PARAVIEW_FILE = \"AT1.pvsm\"\n",
    "#! paraview PARAVIEW_FILE\n",
    "! paraview AT1.pvsm"
   ]
  },
  {
   "cell_type": "markdown",
   "id": "0d40ff18",
   "metadata": {
    "tags": []
   },
   "source": [
    "**Inspecting VTU Files**"
   ]
  },
  {
   "cell_type": "code",
   "execution_count": 29,
   "id": "ddae910b-4fc6-4384-bebf-723113924613",
   "metadata": {
    "scrolled": true,
    "tags": []
   },
   "outputs": [
    {
     "name": "stdout",
     "output_type": "stream",
     "text": [
      "/home/ok/ogs-jupyter-lab-dev/VPF/AT1_iso_tension_ts_9_t_0_900000_0.vtu\n",
      "point_fields:\n",
      "['NodalForces', 'displacement', 'epsilon', 'phasefield', 'sigma']\n",
      "point_field:\n",
      "[[ 0.          0.16806779 -0.04286695]\n",
      " [ 0.          0.15431751 -0.01249195]\n",
      " [ 0.          0.13769279 -0.05661724]\n",
      " ...\n",
      " [ 3.9285      0.13276756 -0.02956718]\n",
      " [ 3.969       0.13276756 -0.02956718]\n",
      " [ 4.0095      0.13276756 -0.02956718]]\n"
     ]
    }
   ],
   "source": [
    "import vtuIO\n",
    "import numpy as np\n",
    "import matplotlib.pyplot as plt\n",
    "\n",
    "filename = \"/home/ok/ogs-jupyter-lab-dev/VPF/AT1_iso_tension_ts_9_t_0_900000_0.vtu\"\n",
    "print(filename)\n",
    "vtufile = vtuIO.VTUIO(filename)\n",
    "point_fields = vtufile.get_point_field_names()\n",
    "print(\"point_fields:\")\n",
    "print(point_fields)\n",
    "point_field = vtufile.get_point_field(variable_name)\n",
    "print(\"point_field:\")\n",
    "print(point_field)"
   ]
  },
  {
   "cell_type": "code",
   "execution_count": 47,
   "id": "0f5280b6",
   "metadata": {},
   "outputs": [
    {
     "name": "stdout",
     "output_type": "stream",
     "text": [
      "Profile plot\n",
      "[0.2, 0.5, 1.0]\n"
     ]
    },
    {
     "data": {
      "image/png": "[encoded data removed]",
      "text/plain": [
       "<Figure size 432x288 with 1 Axes>"
      ]
     },
     "metadata": {
      "needs_background": "light"
     },
     "output_type": "display_data"
    }
   ],
   "source": [
    "theme = \"Profile plot\"\n",
    "print(theme)\n",
    "import numpy as np\n",
    "import matplotlib.pyplot as plt\n",
    "import vtuIO\n",
    "\n",
    "xaxis =  [(i,0,0) for i in np.linspace(start=0.0, stop=1.0, num=100)]\n",
    "r_x = np.array(xaxis)[:,0]\n",
    "pvdfile=vtuIO.PVDIO(\"AT1_iso_tension.pvd\", dim=3)\n",
    "#time = pvdfile.timesteps\n",
    "time = [0.2,0.5,1.0]\n",
    "print(time)\n",
    "variable = \"phasefield\"\n",
    "for t in time:\n",
    "    pressure_xaxis_t2 = pvdfile.read_set_data(t, variable, data_type=\"point\", pointsetarray=xaxis)\n",
    "    plt.plot(r_x, pressure_xaxis_t2, label=\"t=\"+str(t))\n",
    "plt.legend()\n",
    "plt.title(theme)\n",
    "plt.xlabel('x')\n",
    "plt.ylabel(variable)\n",
    "plt.show()"
   ]
  },
  {
   "cell_type": "code",
   "execution_count": 46,
   "id": "0b998e26",
   "metadata": {},
   "outputs": [
    {
     "name": "stdout",
     "output_type": "stream",
     "text": [
      "Temporal plot\n"
     ]
    },
    {
     "data": {
      "image/png": "[encoded data removed]",
      "text/plain": [
       "<Figure size 432x288 with 1 Axes>"
      ]
     },
     "metadata": {
      "needs_background": "light"
     },
     "output_type": "display_data"
    }
   ],
   "source": [
    "theme = \"Temporal plot\"\n",
    "print(theme)\n",
    "timesteps = pvdfile.timesteps\n",
    "selected_points = {}\n",
    "for i in range(10):\n",
    "    selected_points[f\"pt{i}\"] = (i/10, 0.0, 0.0)\n",
    "#selected_points[f\"pt0\"] = (0.5, 0.0, 0.0)\n",
    "pressure_interpolation=pvdfile.read_time_series('phasefield', selected_points)    \n",
    "pressure_pt1=pressure_interpolation['pt1']\n",
    "pressure_pt3=pressure_interpolation['pt3']\n",
    "pressure_pt5=pressure_interpolation['pt5']\n",
    "plt.plot(timesteps, pressure_pt1, label='pt1')\n",
    "plt.plot(timesteps, pressure_pt3, label='pt3')\n",
    "plt.plot(timesteps, pressure_pt5, label='pt5')\n",
    "plt.legend()\n",
    "plt.title(theme)\n",
    "plt.xlabel('t')\n",
    "plt.ylabel(variable)\n",
    "plt.show()"
   ]
  },
  {
   "cell_type": "markdown",
   "id": "bd15424c-f926-4b11-8f74-b1d591b3571b",
   "metadata": {},
   "source": [
    "**Vertical cross-sections**"
   ]
  },
  {
   "cell_type": "code",
   "execution_count": 45,
   "id": "d211f74c-179c-4838-a34b-07a285b8477e",
   "metadata": {
    "scrolled": true,
    "tags": []
   },
   "outputs": [
    {
     "data": {
      "image/png": "[encoded data removed]",
      "text/plain": [
       "<Figure size 864x144 with 4 Axes>"
      ]
     },
     "metadata": {
      "needs_background": "light"
     },
     "output_type": "display_data"
    }
   ],
   "source": [
    "import matplotlib.pyplot as plt\n",
    "import matplotlib.tri as tri\n",
    "\n",
    "m_plot=vtuIO.VTUIO(\"AT1_iso_tension_ts_9_t_0_900000_0.vtu\", dim=3)\n",
    "triang=tri.Triangulation(m_plot.points[:,0],m_plot.points[:,1])\n",
    "var_left = \"phasefield\"\n",
    "var_right = \"displacement\"\n",
    "u_plot = m_plot.get_point_field(var_left)\n",
    "p_plot = m_plot.get_point_field(var_right).T[0]\n",
    "fig, ax = plt.subplots(ncols=2, figsize=(12,2))\n",
    "contour_left = ax[0].tricontourf(triang, u_plot)\n",
    "contour_right = ax[1].tricontourf(triang, p_plot)\n",
    "fig.colorbar(contour_left,ax=ax[0],label='$v$ / [-]')\n",
    "fig.colorbar(contour_right,ax=ax[1],label='$u$ / [m]')\n",
    "ax[0].set_title(var_left)\n",
    "ax[1].set_title(var_right)\n",
    "plt.show()"
   ]
  },
  {
   "cell_type": "code",
   "execution_count": 43,
   "id": "a823f8e3",
   "metadata": {},
   "outputs": [
    {
     "name": "stdout",
     "output_type": "stream",
     "text": [
      "Thu Nov 18 02:00:10 2021\n"
     ]
    }
   ],
   "source": [
    "import time\n",
    "print(time.ctime())"
   ]
  },
  {
   "cell_type": "markdown",
   "id": "abd367e3",
   "metadata": {
    "tags": []
   },
   "source": [
    "**OGS links**\n",
    "- project file: https://gitlab.opengeosys.org/ogs/ogs/-/blob/master/Tests/Data/PhaseField/beam/AT1_iso_tensile.prj\n",
    "- jupyter template by OK (https://github.com/OlafKolditz/ogs-jupyter-lab)"
   ]
  },
  {
   "cell_type": "markdown",
   "id": "f0c45a18",
   "metadata": {},
   "source": [
    "**Credits**\n",
    "- Keita for this benchmark set up\n",
    "- Jörg Buchwald for [ogs6py](https://github.com/joergbuchwald/ogs6py) and [VTUInterface](https://github.com/joergbuchwald/VTUinterface)"
   ]
  },
  {
   "cell_type": "code",
   "execution_count": null,
   "id": "25372e7e",
   "metadata": {},
   "outputs": [],
   "source": []
  }
 ],
 "metadata": {
  "kernelspec": {
   "display_name": "Python 3",
   "language": "python",
   "name": "python3"
  },
  "language_info": {
   "codemirror_mode": {
    "name": "ipython",
    "version": 3
   },
   "file_extension": ".py",
   "mimetype": "text/x-python",
   "name": "python",
   "nbconvert_exporter": "python",
   "pygments_lexer": "ipython3",
   "version": "3.8.10"
  }
 },
 "nbformat": 4,
 "nbformat_minor": 5
}
