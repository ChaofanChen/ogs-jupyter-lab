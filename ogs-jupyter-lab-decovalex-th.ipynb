{
 "cells": [
  {
   "cell_type": "markdown",
   "id": "ee4c0300",
   "metadata": {
    "tags": []
   },
   "source": [
    "**ogs-jupyter-lab: DECOVALEX TH process: FEBEX type repository**"
   ]
  },
  {
   "cell_type": "markdown",
   "id": "bb5a720e",
   "metadata": {
    "tags": []
   },
   "source": [
    "<!--- ![tu-dresden-blue.png](attachment:tu-dresden-blue.png) --->\n",
    "<img src=\"ogs-jupyter-lab01.png\" alt=\"drawing\" width=\"300\"/>"
   ]
  },
  {
   "cell_type": "markdown",
   "id": "74af323c",
   "metadata": {},
   "source": [
    "**Description**\n",
    "\n",
    "DECOVALEX is an international benchmarking project for the DEvelopment of COupled models and their VALidation against Experiments in geosystems with an emphasis on deep geological repositories (https://decovalex.org/). The present test case comes from Task D (BMT3: Long term changes in EDZ due to THM and THC processes) of the 4th phase DECOVALEX-THMC (2004-2007) (https://decovalex.org/D-THMC/index.html).\n"
   ]
  },
  {
   "cell_type": "markdown",
   "id": "390b3907",
   "metadata": {},
   "source": [
    "**Input data:** Mesh"
   ]
  },
  {
   "cell_type": "code",
   "execution_count": 2,
   "id": "df1db57b",
   "metadata": {},
   "outputs": [
    {
     "ename": "AttributeError",
     "evalue": "'NoneType' object has no attribute 'GetNumberOfPoints'",
     "output_type": "error",
     "traceback": [
      "\u001b[0;31m---------------------------------------------------------------------------\u001b[0m",
      "\u001b[0;31mAttributeError\u001b[0m                            Traceback (most recent call last)",
      "\u001b[0;32m<ipython-input-2-e5ea543bedfe>\u001b[0m in \u001b[0;36m<module>\u001b[0;34m\u001b[0m\n\u001b[1;32m     15\u001b[0m \u001b[0;31m#points\u001b[0m\u001b[0;34m\u001b[0m\u001b[0;34m\u001b[0m\u001b[0;34m\u001b[0m\u001b[0m\n\u001b[1;32m     16\u001b[0m \u001b[0mpoints\u001b[0m \u001b[0;34m=\u001b[0m \u001b[0mdata\u001b[0m\u001b[0;34m.\u001b[0m\u001b[0mGetPoints\u001b[0m\u001b[0;34m(\u001b[0m\u001b[0;34m)\u001b[0m\u001b[0;34m\u001b[0m\u001b[0;34m\u001b[0m\u001b[0m\n\u001b[0;32m---> 17\u001b[0;31m \u001b[0mnpts\u001b[0m \u001b[0;34m=\u001b[0m \u001b[0mpoints\u001b[0m\u001b[0;34m.\u001b[0m\u001b[0mGetNumberOfPoints\u001b[0m\u001b[0;34m(\u001b[0m\u001b[0;34m)\u001b[0m\u001b[0;34m\u001b[0m\u001b[0;34m\u001b[0m\u001b[0m\n\u001b[0m\u001b[1;32m     18\u001b[0m \u001b[0mx\u001b[0m \u001b[0;34m=\u001b[0m \u001b[0mvtk_to_numpy\u001b[0m\u001b[0;34m(\u001b[0m\u001b[0mpoints\u001b[0m\u001b[0;34m.\u001b[0m\u001b[0mGetData\u001b[0m\u001b[0;34m(\u001b[0m\u001b[0;34m)\u001b[0m\u001b[0;34m)\u001b[0m\u001b[0;34m\u001b[0m\u001b[0;34m\u001b[0m\u001b[0m\n\u001b[1;32m     19\u001b[0m \u001b[0mtriang\u001b[0m \u001b[0;34m=\u001b[0m \u001b[0mtri\u001b[0m\u001b[0;34m.\u001b[0m\u001b[0mTriangulation\u001b[0m\u001b[0;34m(\u001b[0m\u001b[0mx\u001b[0m\u001b[0;34m[\u001b[0m\u001b[0;34m:\u001b[0m\u001b[0;34m,\u001b[0m\u001b[0;36m0\u001b[0m\u001b[0;34m]\u001b[0m\u001b[0;34m,\u001b[0m \u001b[0mx\u001b[0m\u001b[0;34m[\u001b[0m\u001b[0;34m:\u001b[0m\u001b[0;34m,\u001b[0m\u001b[0;36m1\u001b[0m\u001b[0;34m]\u001b[0m\u001b[0;34m)\u001b[0m\u001b[0;34m\u001b[0m\u001b[0;34m\u001b[0m\u001b[0m\n",
      "\u001b[0;31mAttributeError\u001b[0m: 'NoneType' object has no attribute 'GetNumberOfPoints'"
     ]
    }
   ],
   "source": [
    "import matplotlib.pyplot as plt\n",
    "import numpy as np\n",
    "import vtk\n",
    "from vtk.util.numpy_support import vtk_to_numpy\n",
    "import matplotlib.tri as tri\n",
    "\n",
    "#file\n",
    "file_name = \"th_decovalex.vtu\"\n",
    "reader = vtk.vtkXMLUnstructuredGridReader()\n",
    "reader.SetFileName(file_name)\n",
    "reader.Update()  # Needed because of GetScalarRange\n",
    "data = reader.GetOutput()\n",
    "temperature = data.GetPointData().GetArray(\"T_ref\")\n",
    "pressure = data.GetPointData().GetArray(\"p_ref\")\n",
    "#points\n",
    "points = data.GetPoints()\n",
    "npts = points.GetNumberOfPoints()\n",
    "x = vtk_to_numpy(points.GetData())\n",
    "triang = tri.Triangulation(x[:,0], x[:,1])\n",
    "#cells\n",
    "triangles=  vtk_to_numpy(data.GetCells().GetData())\n",
    "ntri = triangles.size//4  # number of cells\n",
    "tri = np.take(triangles,[n for n in range(triangles.size) if n%4 != 0]).reshape(ntri,3)\n",
    "#plots\n",
    "fig, ax = plt.subplots(ncols=3, figsize=(14,8))\n",
    "#plt.subplots_adjust(left=0.1, bottom=0.1, right=0.9, top=0.9, wspace=0.4, hspace=0.6)\n",
    "plt.subplots_adjust(wspace=0.5)\n",
    "#mesh\n",
    "ax[0].triplot(x[:,0], x[:,1], tri)\n",
    "ax[1].tricontour(x[:,0], x[:,1], tri, pressure, 16);\n",
    "contour_right = ax[2].tricontour(triang, pressure)\n",
    "fig.colorbar(contour_right,ax=ax[1],label='$p$ / [Pa]')\n",
    "ax[2].tricontourf(x[:,0], x[:,1], tri, temperature, 12);\n",
    "contour_right = ax[2].tricontourf(triang, temperature)\n",
    "fig.colorbar(contour_right,ax=ax[2],label='$T$ / [K]')\n",
    "plt.savefig(\"figures.png\")"
   ]
  },
  {
   "cell_type": "markdown",
   "id": "746d6725",
   "metadata": {},
   "source": [
    "**Running ogs using [ogs6py](https://github.com/joergbuchwald/ogs6py)**"
   ]
  },
  {
   "cell_type": "code",
   "execution_count": null,
   "id": "85143f21-f2ef-43ab-a2a3-9412f1ca55fa",
   "metadata": {
    "tags": []
   },
   "outputs": [],
   "source": [
    "from ogs6py import ogs\n",
    "#run ogs\n",
    "PATH_OGS=\"/home/ok/ogs/build/release/bin/\"\n",
    "print(\"===============\")\n",
    "print(\">>> run ogs <<<\")\n",
    "model = ogs.OGS(PROJECT_FILE=\"th_decovalex.prj\")\n",
    "model.geo.add_geom(filename=\"boundary.gml\")\n",
    "model.mesh.add_mesh(filename=\"th_decovalex.vtu\")\n",
    "model.run_model(path=PATH_OGS,LOGFILE=\"console.log\")"
   ]
  },
  {
   "cell_type": "markdown",
   "id": "4cb395b7-9b10-4a39-b914-929265094f56",
   "metadata": {
    "tags": []
   },
   "source": [
    "**Extracting results using [VTUInterface](https://github.com/joergbuchwald/VTUinterface)**"
   ]
  },
  {
   "cell_type": "code",
   "execution_count": null,
   "id": "ddae910b-4fc6-4384-bebf-723113924613",
   "metadata": {
    "tags": []
   },
   "outputs": [],
   "source": [
    "# read and process (point interpolation) vtu- and pvd-files \n",
    "import vtuIO\n",
    "import matplotlib.tri as tri\n",
    "print(\"=====================\")\n",
    "print(\">>> print results <<<\")\n",
    "pvdfile=vtuIO.PVDIO(\"th_decovalex.pvd\", dim=2)\n",
    "xaxis =  [(i,0,0) for i in np.linspace(start=0.0, stop=17.5, num=100)]\n",
    "r_x = np.array(xaxis)[:,0]\n",
    "time = [0.06,0.7,8.0,18.0,28.0,38.0,388.0,1000.0]\n",
    "for t in time:\n",
    "    function_xaxis_t = pvdfile.read_point_set_data(t, 'T', pointsetarray=xaxis)\n",
    "    plt.plot(r_x, function_xaxis_t, label='t='+str(t))\n",
    "# plot formatting\n",
    "titlestring=\"TH process: FEBEX type repository\"\n",
    "plt.title(titlestring)\n",
    "#plt.xscale('log')\n",
    "plt.xlabel('x')\n",
    "plt.ylabel('Temperature')\n",
    "plt.legend()\n",
    "plt.grid()\n",
    "plt.savefig(\"profile.png\")\n",
    "plt.show()"
   ]
  },
  {
   "cell_type": "markdown",
   "id": "bd15424c-f926-4b11-8f74-b1d591b3571b",
   "metadata": {},
   "source": [
    "**Vertical cross-sections**"
   ]
  },
  {
   "cell_type": "code",
   "execution_count": null,
   "id": "d211f74c-179c-4838-a34b-07a285b8477e",
   "metadata": {
    "scrolled": true,
    "tags": []
   },
   "outputs": [],
   "source": [
    "m_plot=vtuIO.VTUIO(\"th_decovalex_ts_30_t_8.000000.vtu\", dim=2)\n",
    "triang=tri.Triangulation(m_plot.points[:,0],m_plot.points[:,1])\n",
    "u_plot = m_plot.get_point_field(\"T\")\n",
    "p_plot = m_plot.get_point_field(\"p\")\n",
    "fig, ax = plt.subplots(ncols=2, figsize=(10,10))\n",
    "contour_left = ax[0].tricontourf(triang, u_plot)\n",
    "contour_right = ax[1].tricontourf(triang, p_plot)\n",
    "fig.colorbar(contour_left,ax=ax[0],label='$T$ / [K]')\n",
    "fig.colorbar(contour_right,ax=ax[1],label='$p$ / [MPa]')\n",
    "plt.show()"
   ]
  },
  {
   "cell_type": "code",
   "execution_count": null,
   "id": "a823f8e3",
   "metadata": {},
   "outputs": [],
   "source": [
    "import time\n",
    "print(time.ctime())"
   ]
  },
  {
   "cell_type": "markdown",
   "id": "54a4390e-6829-4e80-a9d1-27438146702d",
   "metadata": {
    "tags": []
   },
   "source": [
    "**Results have been shown using [matplotlib](https://matplotlib.org/)**"
   ]
  },
  {
   "cell_type": "markdown",
   "id": "3a47f1f1-7d5f-4950-9284-26b1fc1ed88f",
   "metadata": {
    "tags": []
   },
   "source": [
    "**OGS links**\n",
    "- description: https://www.opengeosys.org/docs/benchmarks/hydro-thermal/decovalex-th/\n",
    "- project file: https://gitlab.opengeosys.org/ogs/ogs/-/blob/master/Tests/Data/Parabolic/HT/StaggeredCoupling/ADecovalexTHMCBasedHTExample/th_decovalex.prj"
   ]
  },
  {
   "cell_type": "markdown",
   "id": "34d22b69",
   "metadata": {},
   "source": [
    "**Credits**\n",
    "- Jörg Buchwald for ogs6py and VTUInterface\n",
    "- Wenqing and Jörg for this benchmark set up"
   ]
  }
 ],
 "metadata": {
  "kernelspec": {
   "display_name": "Python 3",
   "language": "python",
   "name": "python3"
  },
  "language_info": {
   "codemirror_mode": {
    "name": "ipython",
    "version": 3
   },
   "file_extension": ".py",
   "mimetype": "text/x-python",
   "name": "python",
   "nbconvert_exporter": "python",
   "pygments_lexer": "ipython3",
   "version": "3.8.10"
  }
 },
 "nbformat": 4,
 "nbformat_minor": 5
}
